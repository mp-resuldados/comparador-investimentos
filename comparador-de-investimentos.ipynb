{
 "cells": [
  {
   "cell_type": "code",
   "execution_count": 56,
   "id": "a64e773f-b719-4cbc-a7d6-46c47b46904e",
   "metadata": {
    "tags": []
   },
   "outputs": [],
   "source": [
    "import numpy as np\n",
    "import pandas as pd\n",
    "import matplotlib.pyplot as plt\n",
    "from matplotlib.dates import DateFormatter\n",
    "from matplotlib.ticker import AutoMinorLocator, FixedLocator\n",
    "import ipywidgets as widgets\n",
    "from ipywidgets import interact  \n",
    "import datetime\n",
    "from dateutil.relativedelta import relativedelta\n",
    "from workadays import workdays as wd\n",
    "from sklearn.linear_model import LinearRegression"
   ]
  },
  {
   "cell_type": "markdown",
   "id": "7d8d8a1c-8953-49a3-b99e-8183d9c83553",
   "metadata": {},
   "source": [
    "# Comparador de investimentos\n",
    "\n",
    "Este notebook serve de base para a criação de uma aplicação capaz de comparar o rendimento líquido de um investimento em CDB (com imposto de renda) com um LCI ou LCA (sem imposto de renda).\n",
    "\n",
    "A ideia da aplicação é saber qual investimento em LCI ou LCA é financeiramente equivalente a um rendimento em CDB para um determinado prazo.\n",
    "\n",
    "Para facilitar os cálculos, defini as constantes referentes a taxa DI anualizada e C que se refere a taxa DI diária calculada a partir da taxa anualizada. Ambas taxas são percentuais."
   ]
  },
  {
   "cell_type": "code",
   "execution_count": 12,
   "id": "466fc087-4c99-4a50-a124-2929c0ea730f",
   "metadata": {
    "tags": []
   },
   "outputs": [],
   "source": [
    "# a taxa di precisa estar atualizada\n",
    "taxaDI = 0.1125\n",
    "C = (1+taxaDI)**(1/252) - 1"
   ]
  },
  {
   "cell_type": "markdown",
   "id": "b4b9932c-c4bc-4a6b-bd40-aec680778e1d",
   "metadata": {},
   "source": [
    "Para fazermos a comparação de investimentos, primeiramente vamos definir o prazo do investimento. Estamos definindo abaixo a data de hoje para o início e um ano depois para o fim. Na aplicação, a e b serão entradas."
   ]
  },
  {
   "cell_type": "code",
   "execution_count": 67,
   "id": "3d82e07f-9b62-4a43-95f9-3f68f857180b",
   "metadata": {
    "tags": []
   },
   "outputs": [],
   "source": [
    "# entradas da aplicação\n",
    "a = datetime.date.today()\n",
    "b = a+relativedelta(years=2)"
   ]
  },
  {
   "cell_type": "markdown",
   "id": "a8a35f9a-6e8d-43be-879b-6b152ba83408",
   "metadata": {},
   "source": [
    "O cálculo de rendimento depende do número n de dias úteis entre o início e o fim do prazo. Já o cálculo do imposto do CDB depende dos N dias corridos. Calculamos N e n com a com a função abaixo:"
   ]
  },
  {
   "cell_type": "code",
   "execution_count": 68,
   "id": "974b0ce0-8032-492b-830d-0cc109c018b8",
   "metadata": {
    "tags": []
   },
   "outputs": [],
   "source": [
    "def contador(a, b):\n",
    "    N = (b-a).days\n",
    "    n = wd.networkdays(a, b)\n",
    "    return N, n"
   ]
  },
  {
   "cell_type": "markdown",
   "id": "c491745e-b05d-4baf-9697-de15a4f05bc3",
   "metadata": {
    "tags": []
   },
   "source": [
    "Definimos uma função que retorna o percentual de imposto cobrado sobre o rendimento em função do número de dias corridos para um CDB:"
   ]
  },
  {
   "cell_type": "code",
   "execution_count": 69,
   "id": "abe3d9d8-d1a4-400c-8a70-7bf2243f6eb2",
   "metadata": {},
   "outputs": [],
   "source": [
    "def imposto(N):\n",
    "    if N<=180:\n",
    "        return 0.225\n",
    "    elif N<=360:\n",
    "        return 0.20\n",
    "    elif N<=720:\n",
    "        return 0.175\n",
    "    else:\n",
    "        return 0.15"
   ]
  },
  {
   "cell_type": "markdown",
   "id": "008ed513-c166-4136-a8be-79075b3d3090",
   "metadata": {},
   "source": [
    "Definimos abaixo funções que retornam o rendimento líquido de um CDB e de um LCI ou LCA. Para isso, precisamos definir um prazo e fornecer o percentual do CDI que rende a aplicação."
   ]
  },
  {
   "cell_type": "code",
   "execution_count": 71,
   "id": "cfa6fe34-e935-467f-95ea-ebf25345d2d9",
   "metadata": {
    "tags": []
   },
   "outputs": [],
   "source": [
    "@np.vectorize\n",
    "def R_CDB(a, b, P):\n",
    "    N, n = contador(a, b)\n",
    "    rendimento = 100*( ((C*0.01*P + 1)**n - 1) * (1-imposto(N)) )\n",
    "    return rendimento\n",
    "\n",
    "@np.vectorize\n",
    "def R_LCI(a, b, P):\n",
    "    N, n = contador(a, b)\n",
    "    return 100*((C*0.01*P + 1)**n - 1)"
   ]
  },
  {
   "cell_type": "markdown",
   "id": "e740ddb2-ba36-458f-9da2-a8b7ec11a009",
   "metadata": {},
   "source": [
    "Abaixo igualamos as expressões para o rendimento do CDB com o LCI/LCA e isolamos o percentual de rendimento do LCI. Com isso, dado um percentual de rendimento para um CBD, podemos calcular o percentual de rendimento de um LCI/ LCA com o mesmo rendimento líquido."
   ]
  },
  {
   "cell_type": "code",
   "execution_count": 72,
   "id": "571d038f-6bb4-4a4d-bdcf-7aef669634b9",
   "metadata": {
    "tags": []
   },
   "outputs": [],
   "source": [
    "@np.vectorize\n",
    "def P_LCI(a, b, P_CDB):\n",
    "    N, n = contador(a, b)\n",
    "    return 100*((( ((C*0.01*P_CDB+1)**n -1)*(1-imposto(N))) + 1)**(1/n) -1) / C"
   ]
  },
  {
   "cell_type": "markdown",
   "id": "6221a00a-db96-4d0f-bf17-30da3f953e3a",
   "metadata": {},
   "source": [
    "Abaixo igualamos as expressões para o rendimento do CDB com o LCI/LCA e isolamos o percentual de rendimento do CDB. Com isso, dado um percentual de rendimento para um LCI/LCA, podemos calcular o percentual de rendimento de um CDB com o mesmo rendimento líquido."
   ]
  },
  {
   "cell_type": "code",
   "execution_count": 73,
   "id": "c454f3e6-c24e-4d7c-a5a6-11b48e2ddebf",
   "metadata": {
    "tags": []
   },
   "outputs": [],
   "source": [
    "@np.vectorize\n",
    "def P_CDB(a, b, P_LCI):\n",
    "    N, n = contador(a, b)\n",
    "    return 100*( (((C*0.01*P_LCI+1)**n - 1)/(1-imposto(N)) + 1 )**(1/n) -1) / C"
   ]
  },
  {
   "cell_type": "markdown",
   "id": "42101615-3c69-446e-8626-b785deead32d",
   "metadata": {},
   "source": [
    "Testando para alguns valores:"
   ]
  },
  {
   "cell_type": "code",
   "execution_count": 74,
   "id": "ae2f0ae7-f7fb-4db3-b9d3-59aa5989966d",
   "metadata": {
    "tags": []
   },
   "outputs": [
    {
     "data": {
      "text/plain": [
       "20.20078125000129"
      ]
     },
     "execution_count": 74,
     "metadata": {},
     "output_type": "execute_result"
    }
   ],
   "source": [
    "# rendimento de um CDB que rende 100% do CDI\n",
    "R_CDB(a, b, 100).item()"
   ]
  },
  {
   "cell_type": "code",
   "execution_count": 75,
   "id": "19011186-10a2-4558-b6ee-39b8632ba8db",
   "metadata": {
    "tags": []
   },
   "outputs": [
    {
     "data": {
      "text/plain": [
       "19.424178854255825"
      ]
     },
     "execution_count": 75,
     "metadata": {},
     "output_type": "execute_result"
    }
   ],
   "source": [
    "# rendimento de um LCI que rende 83.25% do CDI\n",
    "R_LCI(a, b, 83.25).item()"
   ]
  },
  {
   "cell_type": "code",
   "execution_count": 76,
   "id": "48a56cef-759f-4b6f-919b-702165b6026b",
   "metadata": {
    "tags": []
   },
   "outputs": [
    {
     "data": {
      "text/plain": [
       "86.29043143491175"
      ]
     },
     "execution_count": 76,
     "metadata": {},
     "output_type": "execute_result"
    }
   ],
   "source": [
    "# Qual LCI equivale a um CDB rendendo 100% do CDI\n",
    "P_LCI(a, b, 100).item()"
   ]
  },
  {
   "cell_type": "code",
   "execution_count": 77,
   "id": "e4fcc600-c268-44b5-876c-9a15cc7dc57d",
   "metadata": {
    "tags": []
   },
   "outputs": [
    {
     "data": {
      "text/plain": [
       "96.52424204521759"
      ]
     },
     "execution_count": 77,
     "metadata": {},
     "output_type": "execute_result"
    }
   ],
   "source": [
    "# Qual CDB equivale a um LCI rendendo 83.25% do CDI\n",
    "P_CDB(a, b, 83.25).item()"
   ]
  },
  {
   "cell_type": "markdown",
   "id": "c156fd84-6e78-4d40-9bd6-ac215716cd1f",
   "metadata": {},
   "source": [
    "Vamos gerar um gráfico que mostra o rendimento nos prazos dados:"
   ]
  },
  {
   "cell_type": "code",
   "execution_count": 78,
   "id": "f46324c4-c829-4f47-94bd-3c6833943c2a",
   "metadata": {
    "tags": []
   },
   "outputs": [],
   "source": [
    "tempo = pd.date_range(a, b)\n",
    "dias = [tempo[i].date() for i in range(len(tempo))][1:]"
   ]
  },
  {
   "cell_type": "code",
   "execution_count": 80,
   "id": "b999d5b3-7832-4a3d-aa6e-af025e3bc8c7",
   "metadata": {},
   "outputs": [
    {
     "data": {
      "image/png": "[encoded data removed]",
      "text/plain": [
       "<Figure size 640x480 with 1 Axes>"
      ]
     },
     "metadata": {},
     "output_type": "display_data"
    }
   ],
   "source": [
    "fig, ax = plt.subplots()\n",
    "\n",
    "for label in ax.get_xticklabels(which='major'):\n",
    "    label.set(rotation=15)\n",
    "        \n",
    "cdb = 120\n",
    "lci = 93\n",
    "\n",
    "ax.plot(dias, R_CDB(a, dias, cdb), label=f'CDB {cdb}%')\n",
    "ax.plot(dias, R_LCI(a, dias, lci), label=f'LCI {lci}%')\n",
    "date_form = DateFormatter('%m-%Y')\n",
    "ax.xaxis.set_major_formatter(date_form)\n",
    "ax.set_xlim(a, b)\n",
    "\n",
    "ax.axvline(a+relativedelta(days=180), color='gray', linestyle='dashed', label='faixas de mudança de imposto')\n",
    "ax.axvline(a+relativedelta(days=360), color='gray', linestyle='dashed')\n",
    "ax.axvline(a+relativedelta(days=720), color='gray', linestyle='dashed')\n",
    "\n",
    "ax.set_title('Comparação entre um CDB e um LCI/ LCA')\n",
    "ax.set_ylabel('rendimento líquido em %')\n",
    "ax.legend(loc='upper left', ncols=1)\n",
    "\n",
    "ax.grid()\n",
    "\n",
    "\n"
   ]
  }
 ],
 "metadata": {
  "kernelspec": {
   "display_name": "Python 3 (ipykernel)",
   "language": "python",
   "name": "python3"
  },
  "language_info": {
   "codemirror_mode": {
    "name": "ipython",
    "version": 3
   },
   "file_extension": ".py",
   "mimetype": "text/x-python",
   "name": "python",
   "nbconvert_exporter": "python",
   "pygments_lexer": "ipython3",
   "version": "3.11.5"
  }
 },
 "nbformat": 4,
 "nbformat_minor": 5
}
